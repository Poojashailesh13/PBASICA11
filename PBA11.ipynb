{
 "cells": [
  {
   "cell_type": "raw",
   "id": "f2bfcf63",
   "metadata": {},
   "source": [
    "1. Create an assert statement that throws an AssertionError if the variable spam is a negative\n",
    "integer.\n",
    "ANS- def check_neg(spam):\n",
    "    assert spam>0 , \"enter positive number\"\n",
    "    \n",
    "check_neg(-1)"
   ]
  },
  {
   "cell_type": "raw",
   "id": "336339e0",
   "metadata": {},
   "source": [
    "2. Write an assert statement that triggers an AssertionError if the variables eggs and bacon contain\n",
    "strings that are the same as each other, even if their cases are different (that is, 'ello' and 'hello' are\n",
    "considered the same, and 'goodbye' and 'GOODbye' are also considered the same).\n",
    "ANS-def assert_stat(eggs, bacon):\n",
    "    eggs = eggs.lower()\n",
    "    bacon = bacon.lower()\n",
    "    assert eggs==bacon, \"Enter same words\"\n",
    "    \n",
    "eggs = \"goodbye\"\n",
    "bacon = \"GOODbye\"\n",
    "assert_stat(eggs,bacon)\n",
    "def assert_stat(eggs, bacon):\n",
    "    \n",
    "    assert eggs==bacon, \"Enter same words and also check the lower and upper case\"\n",
    "    \n",
    "eggs = \"goodbye\"\n",
    "bacon = \"GOODbye\"\n",
    "assert_stat(eggs,bacon)"
   ]
  },
  {
   "cell_type": "raw",
   "id": "f618af41",
   "metadata": {},
   "source": [
    "3. Create an assert statement that throws an AssertionError every time.\n",
    "ANS- def always_error():\n",
    "    assert False, \"Assertion statement everytime\"\n",
    "        \n",
    "always_error()"
   ]
  },
  {
   "cell_type": "raw",
   "id": "5deb4ad6",
   "metadata": {},
   "source": [
    "4. What are the two lines that must be present in your software in order to call logging.debug()?\n",
    "ANS- import logging\n",
    "logging.basicConfig(filename = 'trial.txt',level = logging.DEBUG, format = '%(asctime)s - %(message)s - %(levelname)s')\n",
    "logging.debug('Start')\n",
    "logging.debug('End')"
   ]
  },
  {
   "cell_type": "raw",
   "id": "d71482b9",
   "metadata": {},
   "source": [
    "5. What are the two lines that your program must have in order to have logging.debug() send a\n",
    "logging message to a file named programLog.txt?\n",
    "ANS- logging.basicConfig(\n",
    "    filename='programLog.txt', level=logging.DEBUG, format='%(message)s - %(asctime)s - %(levelname)s')\n",
    "logging.debug(\"pooja  test message\")\n",
    "logging.debug('This is a test message.')"
   ]
  },
  {
   "cell_type": "raw",
   "id": "04a6789d",
   "metadata": {},
   "source": [
    "6. What are the five levels of logging?\n",
    "ans- LEVELS OF LOGGING:\n",
    "                1. Debug\n",
    "                2. INFO\n",
    "                3. WARNINGS\n",
    "                4. ERROR\n",
    "                5. CRITICAL"
   ]
  },
  {
   "cell_type": "raw",
   "id": "59cbc1f7",
   "metadata": {},
   "source": [
    "7. What line of code would you add to your software to disable all logging messages?\n",
    "ans- logging.disable = True"
   ]
  },
  {
   "cell_type": "raw",
   "id": "16e13245",
   "metadata": {},
   "source": [
    "8.Why is using logging messages better than using print() to display the same message?\n",
    "ans- print is used when you want to display any particular message or help whereas logging is used to record all events like \n",
    "error, info, debug messages, timestamps."
   ]
  },
  {
   "cell_type": "raw",
   "id": "91e2df90",
   "metadata": {},
   "source": [
    "9. What are the differences between the Step Over, Step In, and Step Out buttons in the debugger?\n",
    "ans- Step Over:\n",
    "         This button will step over i.e. it will execute that line but result returned without debugging.\n",
    "Step In:\n",
    "       This button helps entering debugger and start debugging line by line.\n",
    "Step Out:\n",
    "        This breaks out of the debugger."
   ]
  },
  {
   "cell_type": "raw",
   "id": "ab0abd7a",
   "metadata": {},
   "source": [
    "10.After you click Continue, when will the debugger stop ?\n",
    "ans- This will cause the program to continue running normally, without pausing for debugging  untill it is completed."
   ]
  },
  {
   "cell_type": "code",
   "execution_count": null,
   "id": "d7d9f702",
   "metadata": {},
   "outputs": [],
   "source": [
    "11. What is the concept of a breakpoint?\n",
    "ans- this will help step line by line through the code."
   ]
  }
 ],
 "metadata": {
  "kernelspec": {
   "display_name": "Python 3 (ipykernel)",
   "language": "python",
   "name": "python3"
  },
  "language_info": {
   "codemirror_mode": {
    "name": "ipython",
    "version": 3
   },
   "file_extension": ".py",
   "mimetype": "text/x-python",
   "name": "python",
   "nbconvert_exporter": "python",
   "pygments_lexer": "ipython3",
   "version": "3.9.7"
  }
 },
 "nbformat": 4,
 "nbformat_minor": 5
}
